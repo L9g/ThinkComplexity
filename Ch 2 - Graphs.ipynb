{
 "metadata": {
  "name": "Ch 2 - Graphs"
 },
 "nbformat": 3,
 "nbformat_minor": 0,
 "worksheets": [
  {
   "cells": [
    {
     "cell_type": "markdown",
     "metadata": {},
     "source": [
      "<p style=\"background-color:#D0D0FF; padding:10px;\">This notebook presents solutions to the exercises in <a href=\"http://www.greenteapress.com/compmod/html/thinkcomplexity003.html\" target=\"_blank\">Chapter 2</a> of Allen B. Downey's <a href=\"http://www.greenteapress.com/compmod/\" target=\"_blank\">Think Complexity</a></p>"
     ]
    },
    {
     "cell_type": "code",
     "collapsed": false,
     "input": [
      "import itertools\n",
      "\n",
      "# Provided classes\n",
      "class Graph(dict):\n",
      "    def __init__(self, vs=[], es=[]):\n",
      "        \"\"\"create a new graph.  (vs) is a list of vertices;\n",
      "        (es) is a list of edges.\"\"\"\n",
      "        for v in vs:\n",
      "            self.add_vertex(v)\n",
      "\n",
      "        for e in es:\n",
      "            self.add_edge(e)\n",
      "\n",
      "    def add_vertex(self, v):\n",
      "        \"\"\"add (v) to the graph\"\"\"\n",
      "        self[v] = {}\n",
      "\n",
      "    def add_edge(self, e):\n",
      "        \"\"\"add (e) to the graph by adding an entry in both directions.\n",
      "\n",
      "        If there is already an edge connecting these Vertices, the\n",
      "        new edge replaces it.\n",
      "        \"\"\"\n",
      "        v, w = e\n",
      "        self[v][w] = e\n",
      "        self[w][v] = e\n",
      "        \n",
      "class Vertex(object):\n",
      "    def __init__(self, label=''):\n",
      "        self.label = label\n",
      "\n",
      "    def __repr__(self):\n",
      "        return 'Vertex(%s)' % repr(self.label)\n",
      "\n",
      "    __str__ = __repr__\n",
      "    \n",
      "class Edge(tuple):\n",
      "    def __new__(cls, e1, e2):\n",
      "        return tuple.__new__(cls, (e1, e2))\n",
      "\n",
      "    def __repr__(self):\n",
      "        return 'Edge(%s, %s)' % (repr(self[0]), repr(self[1]))\n",
      "\n",
      "    __str__ = __repr__"
     ],
     "language": "python",
     "metadata": {},
     "outputs": [],
     "prompt_number": 25
    },
    {
     "cell_type": "code",
     "collapsed": false,
     "input": [
      "v = Vertex('v')\n",
      "w = Vertex('w')\n",
      "e = Edge(v, w)\n",
      "g = Graph([v, w], [e])\n",
      "print g"
     ],
     "language": "python",
     "metadata": {},
     "outputs": [
      {
       "output_type": "stream",
       "stream": "stdout",
       "text": [
        "{Vertex('v'): {Vertex('w'): Edge(Vertex('v'), Vertex('w'))}, Vertex('w'): {Vertex('v'): Edge(Vertex('v'), Vertex('w'))}}\n"
       ]
      }
     ],
     "prompt_number": 26
    },
    {
     "cell_type": "markdown",
     "metadata": {},
     "source": [
      "<p style=\"background-color:#D0D0FF; padding:10px;\"><em>Exercise 2.3:</em> Write a method named get_edge that takes two vertices and returns the edge between them if it exists and None otherwise. Hint: use a try statement.</p>"
     ]
    },
    {
     "cell_type": "code",
     "collapsed": false,
     "input": [
      "def get_edge(self, v1, v2):\n",
      "    '''Return the edge between two vertices if they exist'''\n",
      "    if not self.has_key(v1):\n",
      "        return None\n",
      "    elif self[v1].has_key(v2):\n",
      "        return self[v1][v2]\n",
      "    elif not self.has_key(v2):\n",
      "        # in case of one-way edges\n",
      "        return None\n",
      "    elif self[v2].has_key(v1):\n",
      "        return self[v2][v1]\n",
      "    else:\n",
      "        return None\n",
      "\n",
      "print get_edge(g, w, v)\n",
      "\n",
      "Graph.get_edge = get_edge\n",
      "print g.get_edge(w, v)"
     ],
     "language": "python",
     "metadata": {},
     "outputs": [
      {
       "output_type": "stream",
       "stream": "stdout",
       "text": [
        "Edge(Vertex('v'), Vertex('w'))\n",
        "Edge(Vertex('v'), Vertex('w'))\n"
       ]
      }
     ],
     "prompt_number": 28
    },
    {
     "cell_type": "markdown",
     "metadata": {},
     "source": [
      "<p style=\"background-color:#D0D0FF; padding:10px;\"><em>Exercise 2.4:</em> Write a method named remove_edge that takes an edge and removes all references to it from the graph.</p>"
     ]
    },
    {
     "cell_type": "code",
     "collapsed": false,
     "input": [
      "def remove_edge(self, e):\n",
      "    '''Remove edge from graph'''\n",
      "    v1, v2 = e\n",
      "    deleted = ()\n",
      "    if not self.has_key(v1):\n",
      "        pass\n",
      "    elif self[v1].has_key(v2):\n",
      "        del self[v1][v2]\n",
      "        deleted = e\n",
      "    \n",
      "    # check for both directions\n",
      "    if not self.has_key(v2):\n",
      "        return ()\n",
      "    elif self[v2].has_key(v1):\n",
      "        del self[v2][v1]\n",
      "        deleted = e\n",
      "    \n",
      "    # return the deleted edge\n",
      "    return deleted\n",
      "\n",
      "g = Graph([v, w], [e])\n",
      "print remove_edge(g, e)\n",
      "\n",
      "g = Graph([v, w], [e])\n",
      "Graph.remove_edge = remove_edge\n",
      "print g.remove_edge(e)"
     ],
     "language": "python",
     "metadata": {},
     "outputs": [
      {
       "output_type": "stream",
       "stream": "stdout",
       "text": [
        "Edge(Vertex('v'), Vertex('w'))\n",
        "Edge(Vertex('v'), Vertex('w'))\n"
       ]
      }
     ],
     "prompt_number": 29
    },
    {
     "cell_type": "markdown",
     "metadata": {},
     "source": [
      "<p style=\"background-color:#D0D0FF; padding:10px;\"><em>Exercise 2.5:</em> Write a method named vertices that returns a list of the vertices in a graph.</p>"
     ]
    },
    {
     "cell_type": "code",
     "collapsed": false,
     "input": [
      "def vertices(self):\n",
      "    '''return a list of vertices in a graph'''\n",
      "    v = set(self.keys())\n",
      "    for k in self.keys():\n",
      "        v.update(self[k].keys())\n",
      "    return list(v)\n",
      "\n",
      "g = Graph([v, w], [e])\n",
      "print vertices(g)\n",
      "\n",
      "Graph.vertices = vertices\n",
      "print g.vertices()"
     ],
     "language": "python",
     "metadata": {},
     "outputs": [
      {
       "output_type": "stream",
       "stream": "stdout",
       "text": [
        "[Vertex('v'), Vertex('w')]\n",
        "[Vertex('v'), Vertex('w')]\n"
       ]
      }
     ],
     "prompt_number": 38
    },
    {
     "cell_type": "markdown",
     "metadata": {},
     "source": [
      "<p style=\"background-color:#D0D0FF; padding:10px;\"><em>Exercise 2.6:</em> Write a method named edges that returns a list of edges in a graph. Note that in our representation of an undirected graph there are two references to each edge.</p>"
     ]
    },
    {
     "cell_type": "code",
     "collapsed": false,
     "input": [
      "def edges(self):\n",
      "    '''return a list of unique edges in a graph'''\n",
      "    e = set()\n",
      "    for k in self.keys():\n",
      "        e.update(self[k].values())\n",
      "    return list(e)\n",
      "\n",
      "print edges(g)\n",
      "\n",
      "Graph.edges = edges\n",
      "print g.edges()"
     ],
     "language": "python",
     "metadata": {},
     "outputs": [
      {
       "output_type": "stream",
       "stream": "stdout",
       "text": [
        "[Edge(Vertex('v'), Vertex('w'))]\n",
        "[Edge(Vertex('v'), Vertex('w'))]\n"
       ]
      }
     ],
     "prompt_number": 41
    },
    {
     "cell_type": "markdown",
     "metadata": {},
     "source": [
      "<p style=\"background-color:#D0D0FF; padding:10px;\"><em>Exercise 2.7:</em> Write a method named out_vertices that takes a Vertex and returns a list of the adjacent vertices (the ones connected to the given node by an edge).</p>"
     ]
    },
    {
     "cell_type": "code",
     "collapsed": false,
     "input": [
      "def out_vertices(self, v):\n",
      "    '''return a list of vertices connected out from specified vertex'''\n",
      "    v_out = set()\n",
      "    if v in self.keys():\n",
      "        v_out.update(self[v].keys())\n",
      "    return list(v_out)\n",
      "\n",
      "print out_vertices(g, v)\n",
      "\n",
      "Graph.out_vertices = out_vertices\n",
      "print g.out_vertices(v)"
     ],
     "language": "python",
     "metadata": {},
     "outputs": [
      {
       "output_type": "stream",
       "stream": "stdout",
       "text": [
        "[Vertex('w')]\n",
        "[Vertex('w')]\n"
       ]
      }
     ],
     "prompt_number": 43
    },
    {
     "cell_type": "markdown",
     "metadata": {},
     "source": [
      "<p style=\"background-color:#D0D0FF; padding:10px;\"><em>Exercise 2.8:</em> Write a method named out_edges that takes a Vertex and returns a list of edges connected to the given Vertex.</p>"
     ]
    },
    {
     "cell_type": "code",
     "collapsed": false,
     "input": [
      "def out_edges(self, v):\n",
      "    '''return a list of edges connected out from specified vertex'''\n",
      "    e_out = set()\n",
      "    if v in self.keys():\n",
      "        e_out.update(self[v].values())\n",
      "    return list(e_out)\n",
      "\n",
      "print out_edges(g, v)\n",
      "\n",
      "Graph.out_edges = out_edges\n",
      "print g.out_edges(v)"
     ],
     "language": "python",
     "metadata": {},
     "outputs": [
      {
       "output_type": "stream",
       "stream": "stdout",
       "text": [
        "[Edge(Vertex('v'), Vertex('w'))]\n",
        "[Edge(Vertex('v'), Vertex('w'))]\n"
       ]
      }
     ],
     "prompt_number": 44
    },
    {
     "cell_type": "markdown",
     "metadata": {},
     "source": [
      "<p style=\"background-color:#D0D0FF; padding:10px;\"><em>Exercise 2.9:</em> Write a method named add_all_edges that starts with an edgeless Graph and makes a complete graph by adding edges between all pairs of vertices.</p>"
     ]
    },
    {
     "cell_type": "code",
     "collapsed": false,
     "input": [
      "def add_all_edges(self):\n",
      "    '''Create edges between all vertices'''\n",
      "    created=0\n",
      "    for v1, v2 in itertools.combinations(self.iterkeys(), 2):\n",
      "        if not self[v1].has_key(v2):\n",
      "            created += 1\n",
      "            self.add_edge(Edge(v1, v2))\n",
      "    return created\n",
      "\n",
      "g = Graph([v, w], [])\n",
      "Graph.add_all_edges = add_all_edges\n",
      "print g.add_all_edges(), 'edges created'\n"
     ],
     "language": "python",
     "metadata": {},
     "outputs": [
      {
       "output_type": "stream",
       "stream": "stdout",
       "text": [
        "1 edges created\n"
       ]
      }
     ],
     "prompt_number": 160
    },
    {
     "cell_type": "markdown",
     "metadata": {},
     "source": [
      "<p style=\"background-color:#D0D0FF; padding:10px;\"><em>Exercise 3:</em> Write a method named add_regular_edges that starts with an edgeless graph and adds edges so that every vertex has the same degree. The degree of a node is the number of edges it is connected to.</p>"
     ]
    },
    {
     "cell_type": "code",
     "collapsed": false,
     "input": [
      "%%timeit\n",
      "if n:\n",
      "    pass"
     ],
     "language": "python",
     "metadata": {},
     "outputs": [
      {
       "output_type": "stream",
       "stream": "stdout",
       "text": [
        "10000000 loops, best of 3: 72.8 ns per loop\n"
       ]
      }
     ],
     "prompt_number": 101
    },
    {
     "cell_type": "code",
     "collapsed": false,
     "input": [
      "%%timeit\n",
      "if len(vertices):\n",
      "    pass"
     ],
     "language": "python",
     "metadata": {},
     "outputs": [
      {
       "output_type": "stream",
       "stream": "stdout",
       "text": [
        "10000000 loops, best of 3: 174 ns per loop\n"
       ]
      }
     ],
     "prompt_number": 99
    },
    {
     "cell_type": "code",
     "collapsed": false,
     "input": [
      "k = 7\n",
      "%timeit k % 2\n",
      "%timeit k & 1"
     ],
     "language": "python",
     "metadata": {},
     "outputs": [
      {
       "output_type": "stream",
       "stream": "stdout",
       "text": [
        "10000000 loops, best of 3: 144 ns per loop\n",
        "10000000 loops, best of 3: 113 ns per loop"
       ]
      },
      {
       "output_type": "stream",
       "stream": "stdout",
       "text": [
        "\n"
       ]
      }
     ],
     "prompt_number": 103
    },
    {
     "cell_type": "code",
     "collapsed": false,
     "input": [
      "def add_regular_edges(self, k):\n",
      "    '''Add edges so that every vertex has the same degree k'''\n",
      "    n = len(self)\n",
      "    if self.edges():\n",
      "        raise TypeError, 'Function requires an edgeless graph'\n",
      "    elif n < k+1:\n",
      "        raise ValueError, 'Maximum degree is 1 less than the number of vertices ({0:d})'.format(len(self))\n",
      "    elif k*n & 1:\n",
      "        raise ValueError, 'Product of the degree and number of vertices ({0:d}) must be even'.format(len(self))\n",
      "    \n",
      "    created=0\n",
      "    if k == 0:\n",
      "        return created\n",
      "    \n",
      "    vertices = self.vertices()\n",
      "    m = int(k / 2)\n",
      "    for i, v in enumerate(vertices):\n",
      "        for j in range(m):\n",
      "            self.add_edge(Edge(v, vertices[(i + j + 1) % n]))\n",
      "\n",
      "        if k & 1:\n",
      "            self.add_edge(Edge(v, vertices[(i + (n / 2)) % n]))    \n",
      "            \n",
      "x = Vertex('x')\n",
      "y = Vertex('y')\n",
      "g = Graph([v, w, x,y], [])\n",
      "Graph.add_regular_edges = add_regular_edges\n",
      "\n",
      "g.add_regular_edges(2)\n",
      "g"
     ],
     "language": "python",
     "metadata": {},
     "outputs": [
      {
       "output_type": "pyout",
       "prompt_number": 107,
       "text": [
        "{Vertex('w'): {Vertex('x'): Edge(Vertex('x'), Vertex('w')),\n",
        "  Vertex('y'): Edge(Vertex('w'), Vertex('y'))},\n",
        " Vertex('v'): {Vertex('x'): Edge(Vertex('v'), Vertex('x')),\n",
        "  Vertex('y'): Edge(Vertex('y'), Vertex('v'))},\n",
        " Vertex('x'): {Vertex('w'): Edge(Vertex('x'), Vertex('w')),\n",
        "  Vertex('v'): Edge(Vertex('v'), Vertex('x'))},\n",
        " Vertex('y'): {Vertex('w'): Edge(Vertex('w'), Vertex('y')),\n",
        "  Vertex('v'): Edge(Vertex('y'), Vertex('v'))}}"
       ]
      }
     ],
     "prompt_number": 107
    },
    {
     "cell_type": "markdown",
     "metadata": {},
     "source": [
      "<p style=\"background-color:#D0D0FF; padding:10px;\"><em>Exercise 4:</em> Create a file named RandomGraph.py and define a class named RandomGraph that inherits from Graph and provides a method named add_random_edges that takes a probability p as a parameter and, starting with an edgeless graph, adds edges at random so that the probability is p that there is an edge between any two nodes.</p>"
     ]
    },
    {
     "cell_type": "code",
     "collapsed": false,
     "input": [
      "import random\n",
      "\n",
      "class RandomGraph(Graph):\n",
      "    \"\"\"An Erdos-Renyi random graph is a Graph where the probability of an edge between any two nodes is (p).\n",
      "\n",
      "Instances are created as follows:\n",
      "\n",
      "RandomGraph(list_of_vertices, list_of_edges)\n",
      "RandomGraph(number_of_vertices, probability_of_edges)\n",
      "    \"\"\"\n",
      "    def add_random_edges(self, p):\n",
      "        '''adds edges at random so that the probability is p that there is an edge between any two nodes'''\n",
      "        if self.edges():\n",
      "            raise TypeError, 'Function requires an edgeless graph'\n",
      "        \n",
      "        random.seed(42) # no args to seed with current time\n",
      "        created=0\n",
      "        \n",
      "        # itertools.combinations checks that v1 > v2, so this won't roll the dice twice\n",
      "        for v1, v2 in itertools.combinations(self.iterkeys(), 2):\n",
      "            if random.random() <= p:\n",
      "                created += 1\n",
      "                self.add_edge(Edge(v1, v2))\n",
      "        \n",
      "        return created\n",
      "\n",
      "g = RandomGraph([v, w, x, y], [])\n",
      "print g.add_random_edges(0.5),'edges created'\n",
      "print g"
     ],
     "language": "python",
     "metadata": {},
     "outputs": [
      {
       "output_type": "stream",
       "stream": "stdout",
       "text": [
        "3 edges created\n",
        "{Vertex('y'): {Vertex('v'): Edge(Vertex('y'), Vertex('v')), Vertex('w'): Edge(Vertex('y'), Vertex('w'))}, Vertex('x'): {Vertex('v'): Edge(Vertex('x'), Vertex('v'))}, Vertex('v'): {Vertex('y'): Edge(Vertex('y'), Vertex('v')), Vertex('x'): Edge(Vertex('x'), Vertex('v'))}, Vertex('w'): {Vertex('y'): Edge(Vertex('y'), Vertex('w'))}}\n"
       ]
      }
     ],
     "prompt_number": 209
    },
    {
     "cell_type": "markdown",
     "metadata": {},
     "source": [
      "<p style=\"background-color:#D0D0FF; padding:10px;\"><em>Exercise 5:</em> A graph is connected if there is a path from every node to every other node [<a href=\"http://en.wikipedia.org/wiki/Connectivity_(graph_theory)\" target=\"_blank\">wiki</a>].  Write a Graph method named is_connected that returns True if the Graph is connected and False otherwise.</p>"
     ]
    },
    {
     "cell_type": "code",
     "collapsed": false,
     "input": [
      "def is_connected(self):\n",
      "    '''returns True if the Graph is connected and False otherwise'''\n",
      "    vertices = set(self.vertices())\n",
      "    \n",
      "    for v in self.iterkeys():\n",
      "        if vertices.difference(set([v]+self[v].keys())):\n",
      "            return False\n",
      "    \n",
      "    # Every node is connected to each other\n",
      "    return True\n",
      "\n",
      "g = Graph([v, w, x, y], [])\n",
      "print 'Empty graph is_connected =', is_connected(g)\n",
      "\n",
      "Graph.is_connected = is_connected\n",
      "g.add_all_edges()\n",
      "print 'Connected graph is_connected =', g.is_connected()\n"
     ],
     "language": "python",
     "metadata": {},
     "outputs": [
      {
       "output_type": "stream",
       "stream": "stdout",
       "text": [
        "Empty graph is_connected = False\n",
        "Connected graph is_connected = True\n"
       ]
      }
     ],
     "prompt_number": 164
    },
    {
     "cell_type": "markdown",
     "metadata": {},
     "source": [
      "<p style=\"background-color:#D0D0FF; padding:10px;\"><em>Exercise 6:</em>  In the 1960s, Paul Erd\u0151s and Afr\u00e9d R\u00e9nyi <a href=\"http://www.renyi.hu/~p_erdos/1960-10.eps\" target=\"_blank\">showed</a> that for a number of graph properties there is a threshold value of the probability p below which the property is rare and above which it is almost certain. One of the properties that displays this kind of transition is connectedness. For a given size n, there is a critical value, p*, such that a random graph G(n, p) is unlikely to be connected if p < p* and very likely to be connected if p > p*.\n",
      "    <br /><br />\n",
      "Write a program that tests this result by generating random graphs for values of n and p and computes the fraction of them that are connected.\n",
      "<br /><br />\n",
      "How does the abruptness of the transition depend on n?</p>"
     ]
    },
    {
     "cell_type": "code",
     "collapsed": false,
     "input": [
      "def generateRandomGraph(n, p):\n",
      "    g = RandomGraph([ Vertex(str(i)) for i in xrange(n) ], [])\n",
      "    g.add_random_edges(p)\n",
      "    return g\n",
      "\n",
      "generateRandomGraph(5, 0.5)"
     ],
     "language": "python",
     "metadata": {},
     "outputs": [
      {
       "output_type": "pyout",
       "prompt_number": 215,
       "text": [
        "{Vertex('2'): {Vertex('4'): Edge(Vertex('2'), Vertex('4')),\n",
        "  Vertex('1'): Edge(Vertex('2'), Vertex('1')),\n",
        "  Vertex('0'): Edge(Vertex('2'), Vertex('0'))},\n",
        " Vertex('3'): {},\n",
        " Vertex('4'): {Vertex('2'): Edge(Vertex('2'), Vertex('4')),\n",
        "  Vertex('1'): Edge(Vertex('4'), Vertex('1')),\n",
        "  Vertex('0'): Edge(Vertex('4'), Vertex('0'))},\n",
        " Vertex('1'): {Vertex('2'): Edge(Vertex('2'), Vertex('1')),\n",
        "  Vertex('4'): Edge(Vertex('4'), Vertex('1')),\n",
        "  Vertex('0'): Edge(Vertex('1'), Vertex('0'))},\n",
        " Vertex('0'): {Vertex('2'): Edge(Vertex('2'), Vertex('0')),\n",
        "  Vertex('4'): Edge(Vertex('4'), Vertex('0')),\n",
        "  Vertex('1'): Edge(Vertex('1'), Vertex('0'))}}"
       ]
      }
     ],
     "prompt_number": 215
    },
    {
     "cell_type": "code",
     "collapsed": false,
     "input": [
      "def testRandomGraph(n, p, min_tests=100):\n",
      "    '''Generate RandomGraph's and return the fraction of how many are connected'''\n",
      "    connected = 0\n",
      "    tests = min_tests\n",
      "    for i in xrange(min_tests):\n",
      "        if generateRandomGraph(n, p).is_connected():\n",
      "            connected += 1\n",
      "    \n",
      "    return float(connected)/tests\n",
      "\n",
      "print testRandomGraph(5, 0.8921)\n",
      "print testRandomGraph(5, 0.8923)"
     ],
     "language": "python",
     "metadata": {},
     "outputs": [
      {
       "output_type": "stream",
       "stream": "stdout",
       "text": [
        "0.0\n",
        "1.0\n"
       ]
      }
     ],
     "prompt_number": 261
    },
    {
     "cell_type": "code",
     "collapsed": false,
     "input": [
      "def testConnectedness(n, places=4, verbose=True, min_tests=100):\n",
      "    '''Simple search for p values where connectivity > 0% and < 100%'''\n",
      "    start = 0\n",
      "    stop = 1\n",
      "    for digit in xrange(1,places+1):\n",
      "        p_test = [ i * 10**(-1*digit) for i in xrange(int(start * 10**digit), int(stop * 10**digit + 1)) ]\n",
      "        connected = [ (testRandomGraph(n,i,min_tests), i) for i in p_test ]\n",
      "        start_idx = [ i[0] > 0 for i in connected ].index(True)-1\n",
      "        stop_idx  = [ i[0] < 1 for i in connected ].index(False)\n",
      "        start = connected[start_idx][1]\n",
      "        stop  = connected[stop_idx][1]\n",
      "        if verbose:\n",
      "            s = 'Round {0:d}: f(n={3:d}, p={1:.'+'{0:d}'.format(places)+'f} to {2:.'+'{0:d}'.format(places)+'f}) = 0.0 - 1.0'\n",
      "            print s.format(digit, start, stop, n)\n",
      "    \n",
      "    #return final results\n",
      "    return connected[start_idx:stop_idx+1]\n",
      "\n",
      "testConnectedness(5, 4)"
     ],
     "language": "python",
     "metadata": {},
     "outputs": [
      {
       "output_type": "stream",
       "stream": "stdout",
       "text": [
        "Round 1: f(n=5, p=0.8000 to 0.9000) = 0.0 - 1.0\n",
        "Round 2: f(n=5, p=0.8900 to 0.9000) = 0.0 - 1.0"
       ]
      },
      {
       "output_type": "stream",
       "stream": "stdout",
       "text": [
        "\n",
        "Round 3: f(n=5, p=0.8920 to 0.8930) = 0.0 - 1.0"
       ]
      },
      {
       "output_type": "stream",
       "stream": "stdout",
       "text": [
        "\n",
        "Round 4: f(n=5, p=0.8921 to 0.8922) = 0.0 - 1.0"
       ]
      },
      {
       "output_type": "stream",
       "stream": "stdout",
       "text": [
        "\n"
       ]
      },
      {
       "output_type": "pyout",
       "prompt_number": 303,
       "text": [
        "[(0.0, 0.8921), (1.0, 0.8922)]"
       ]
      }
     ],
     "prompt_number": 303
    },
    {
     "cell_type": "code",
     "collapsed": false,
     "input": [
      "# Check how the transition point changes for different values of n\n",
      "digits=4\n",
      "for n in xrange(3,10+1):\n",
      "    results = testConnectedness(n, digits, False)\n",
      "    s = 'f(n={0:d}, p={1:.'+str(digits)+'f} to {2:.'+str(digits)+'f}) = 0.0 to 1.0'\n",
      "    print s.format(n, results[0][1], results[-1][1])\n",
      "    "
     ],
     "language": "python",
     "metadata": {},
     "outputs": [
      {
       "output_type": "stream",
       "stream": "stdout",
       "text": [
        "f(n=3, p=0.6394 to 0.6395) = 0.0 to 1.0\n",
        "f(n=4, p=0.7364 to 0.7365) = 0.0 to 1.0"
       ]
      },
      {
       "output_type": "stream",
       "stream": "stdout",
       "text": [
        "\n",
        "f(n=5, p=0.8921 to 0.8922) = 0.0 to 1.0"
       ]
      },
      {
       "output_type": "stream",
       "stream": "stdout",
       "text": [
        "\n",
        "f(n=6, p=0.8921 to 0.8922) = 0.0 to 1.0"
       ]
      },
      {
       "output_type": "stream",
       "stream": "stdout",
       "text": [
        "\n",
        "f(n=7, p=0.8921 to 0.8922) = 0.0 to 1.0"
       ]
      },
      {
       "output_type": "stream",
       "stream": "stdout",
       "text": [
        "\n",
        "f(n=8, p=0.9572 to 0.9573) = 0.0 to 1.0"
       ]
      },
      {
       "output_type": "stream",
       "stream": "stdout",
       "text": [
        "\n",
        "f(n=9, p=0.9731 to 0.9732) = 0.0 to 1.0"
       ]
      },
      {
       "output_type": "stream",
       "stream": "stdout",
       "text": [
        "\n",
        "f(n=10, p=0.9731 to 0.9732) = 0.0 to 1.0"
       ]
      },
      {
       "output_type": "stream",
       "stream": "stdout",
       "text": [
        "\n"
       ]
      }
     ],
     "prompt_number": 305
    },
    {
     "cell_type": "markdown",
     "metadata": {},
     "source": [
      "<p style=\"background-color:#D0D0FF; padding:10px;\"><em>Exercise 7:</em>  Write a generator that yields an infinite sequence of alpha-numeric identifiers, starting with a1 through z1, then a2 through z2, and so on.</p>"
     ]
    },
    {
     "cell_type": "code",
     "collapsed": false,
     "input": [
      "from string import ascii_lowercase\n",
      "\n",
      "def genAlphaNumeric():\n",
      "    '''yields an infinite sequence of alpha-numeric identifiers, starting with a1 through z1, then a2 through z2, and so on'''\n",
      "    i=0\n",
      "    while True:\n",
      "        i += 1 # automatically converts to Long at 2**31\n",
      "        for s in ascii_lowercase:\n",
      "            yield s+str(i)\n",
      "        \n",
      "itr = enumerate(genAlphaNumeric())\n",
      "print [ itr.next() for i in xrange(10) ]\n",
      "\n",
      "for i in xrange(100):\n",
      "    itr.next()\n",
      "\n",
      "print [ itr.next() for i in xrange(10) ]"
     ],
     "language": "python",
     "metadata": {},
     "outputs": [
      {
       "output_type": "stream",
       "stream": "stdout",
       "text": [
        "[(0, 'a1'), (1, 'b1'), (2, 'c1'), (3, 'd1'), (4, 'e1'), (5, 'f1'), (6, 'g1'), (7, 'h1'), (8, 'i1'), (9, 'j1')]\n",
        "[(110, 'g5'), (111, 'h5'), (112, 'i5'), (113, 'j5'), (114, 'k5'), (115, 'l5'), (116, 'm5'), (117, 'n5'), (118, 'o5'), (119, 'p5')]\n"
       ]
      }
     ],
     "prompt_number": 319
    }
   ],
   "metadata": {}
  }
 ]
}